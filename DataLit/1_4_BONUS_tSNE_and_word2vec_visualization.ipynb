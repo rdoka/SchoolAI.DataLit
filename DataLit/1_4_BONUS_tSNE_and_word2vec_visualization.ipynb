{
  "nbformat": 4,
  "nbformat_minor": 0,
  "metadata": {
    "kernelspec": {
      "display_name": "Python 3",
      "language": "python",
      "name": "python3"
    },
    "language_info": {
      "codemirror_mode": {
        "name": "ipython",
        "version": 3
      },
      "file_extension": ".py",
      "mimetype": "text/x-python",
      "name": "python",
      "nbconvert_exporter": "python",
      "pygments_lexer": "ipython3",
      "version": "3.6.6"
    },
    "colab": {
      "name": "1.4.BONUS.tSNE_and_word2vec_visualization.ipynb",
      "version": "0.3.2",
      "provenance": []
    }
  },
  "cells": [
    {
      "cell_type": "code",
      "metadata": {
        "id": "AZ5rBNi1_1ZJ",
        "colab_type": "code",
        "colab": {
          "base_uri": "https://localhost:8080/",
          "height": 17
        },
        "outputId": "38bb6ab8-e7d4-4027-da32-0f22d949c4af"
      },
      "source": [
        "#https://medium.com/cindicator/t-sne-and-word-embedding-weekend-of-a-data-scientist-5c99ddacbf51\n",
        "\n",
        "import gensim\n",
        "import numpy as np\n",
        "from sklearn.manifold import TSNE\n",
        "from nltk.corpus import stopwords\n",
        "import plotly.offline as plt\n",
        "import plotly.graph_objs as go\n",
        "%matplotlib.\n",
        "plt.init_notebook_mode(connected=True) "
      ],
      "execution_count": 1,
      "outputs": [
        {
          "output_type": "display_data",
          "data": {
            "text/vnd.plotly.v1+html": "<script type=\"text/javascript\">window.PlotlyConfig = {MathJaxConfig: 'local'};</script><script type=\"text/javascript\">if (window.MathJax) {MathJax.Hub.Config({SVG: {font: \"STIX-Web\"}});}</script><script>requirejs.config({paths: { 'plotly': ['https://cdn.plot.ly/plotly-latest.min']},});if(!window._Plotly) {require(['plotly'],function(plotly) {window._Plotly=plotly;});}</script>",
            "text/html": [
              "<script type=\"text/javascript\">window.PlotlyConfig = {MathJaxConfig: 'local'};</script><script type=\"text/javascript\">if (window.MathJax) {MathJax.Hub.Config({SVG: {font: \"STIX-Web\"}});}</script><script>requirejs.config({paths: { 'plotly': ['https://cdn.plot.ly/plotly-latest.min']},});if(!window._Plotly) {require(['plotly'],function(plotly) {window._Plotly=plotly;});}</script>"
            ]
          },
          "metadata": {
            "tags": []
          }
        }
      ]
    },
    {
      "cell_type": "code",
      "metadata": {
        "id": "vdpHqjjQ_1Zj",
        "colab_type": "code",
        "colab": {
          "base_uri": "https://localhost:8080/",
          "height": 106
        },
        "outputId": "02952d23-f275-4ec2-ef20-a833ffdd61be"
      },
      "source": [
        "model = gensim.models.KeyedVectors.load_word2vec_format('/content/drive/My Drive/ML/GoogleNews-vectors-negative300.bin.gz', binary=True)"
      ],
      "execution_count": 3,
      "outputs": [
        {
          "output_type": "stream",
          "text": [
            "/usr/local/lib/python3.6/dist-packages/smart_open/smart_open_lib.py:398: UserWarning:\n",
            "\n",
            "This function is deprecated, use smart_open.open instead. See the migration notes for details: https://github.com/RaRe-Technologies/smart_open/blob/master/README.rst#migrating-to-the-new-open-function\n",
            "\n"
          ],
          "name": "stderr"
        }
      ]
    },
    {
      "cell_type": "code",
      "metadata": {
        "id": "C-lq8Szp_1Zv",
        "colab_type": "code",
        "colab": {}
      },
      "source": [
        "def get_coordinates(model, words):\n",
        "    arr = np.empty((0,300), dtype='f')\n",
        "    labels = []\n",
        "    for wrd_score in words:\n",
        "        try:\n",
        "            wrd_vector = model[wrd_score]\n",
        "            arr = np.append(arr, np.array([wrd_vector]), axis=0)\n",
        "            labels.append(wrd_score)\n",
        "        except:\n",
        "            pass\n",
        "    tsne = TSNE(n_components=3, random_state=0)\n",
        "    np.set_printoptions(suppress=True)\n",
        "    Y = tsne.fit_transform(arr)\n",
        "    x_coords = Y[:, 0]\n",
        "    y_coords = Y[:, 1]\n",
        "    z_coords = Y[:, 2]\n",
        "    return x_coords, y_coords, z_coords"
      ],
      "execution_count": 0,
      "outputs": []
    },
    {
      "cell_type": "code",
      "metadata": {
        "id": "_RmoQebM_1Z8",
        "colab_type": "code",
        "colab": {
          "base_uri": "https://localhost:8080/",
          "height": 542
        },
        "outputId": "a969c39c-5523-447e-b4c5-d926bf5bceed"
      },
      "source": [
        "with open('welcome2machine.txt', 'r') as f:\n",
        "    data = f.read()\n",
        "    \n",
        "words = np.unique(data.replace('\\n', '').replace(',', ' ').replace('(','').replace(')','').split(' '))\n",
        "ok_computer = [word for word in words if word not in stopwords.words('english')]\n",
        "\n",
        "x, y, z = get_coordinates(model, ok_computer)\n",
        "\n",
        "plot = [go.Scatter3d(x = x,\n",
        "                    y = y,\n",
        "                    z = z,\n",
        "                    mode = 'markers+text',\n",
        "                    text = words,\n",
        "                    textposition='bottom center',\n",
        "                    hoverinfo = 'text',\n",
        "                    marker=dict(size=5,opacity=0.8))]\n",
        "\n",
        "layout = go.Layout(title='Ok Computer lyrics')\n",
        "fig = go.Figure(data=plot, layout=layout)\n",
        "plt.iplot(fig) \n",
        "\n",
        "#pending correrlo sobre linux/jupyter"
      ],
      "execution_count": 7,
      "outputs": [
        {
          "output_type": "display_data",
          "data": {
            "text/vnd.plotly.v1+html": "<div id=\"d3a17267-b56f-4c3e-b3a5-d5847de84690\" style=\"height: 525px; width: 100%;\" class=\"plotly-graph-div\"></div><script type=\"text/javascript\">require([\"plotly\"], function(Plotly) { window.PLOTLYENV=window.PLOTLYENV || {};window.PLOTLYENV.BASE_URL=\"https://plot.ly\";Plotly.newPlot(\"d3a17267-b56f-4c3e-b3a5-d5847de84690\", [{\"hoverinfo\": \"text\", \"marker\": {\"opacity\": 0.8, \"size\": 5}, \"mode\": \"markers+text\", \"text\": [\"\", \"And\", \"Bar.\", \"Boys.You\", \"He\", \"It's\", \"Jaguar.So\", \"Scouting\", \"So\", \"Steak\", \"Welcome\", \"a\", \"alright\", \"always\", \"and\", \"ate\", \"been\", \"been.You've\", \"been?\", \"big\", \"bought\", \"did\", \"didn't\", \"dream.You\", \"dream?\", \"dreamed\", \"drive\", \"filling\", \"fool\", \"for\", \"guitar\", \"have\", \"he\", \"his\", \"in\", \"know\", \"like\", \"loved\", \"ma\", \"machine.\", \"machine.Welcome\", \"machine.What\", \"machine.Where\", \"mean\", \"my\", \"nobody's\", \"of\", \"pipeline\", \"played\", \"provided\", \"punish\", \"school\", \"son\", \"star\", \"the\", \"time\", \"to\", \"told\", \"toys\", \"we\", \"welcome\", \"what\", \"where\", \"with\", \"you\", \"you're\", \"you've\", \"your\"], \"textposition\": \"bottom center\", \"x\": [-36.132442474365234, 324.9017028808594, 194.6321258544922, 278.8934326171875, -265.93365478515625, 151.1609344482422, 82.47032165527344, -124.59989929199219, 136.02874755859375, -22.531335830688477, -185.2057342529297, -140.4307861328125, 120.94084167480469, -178.53924560546875, -82.30577087402344, 11.361571311950684, -307.42724609375, 162.15133666992188, -38.09746551513672, 77.12747192382812, -203.10386657714844, -229.8040008544922, -20.88426399230957, 71.27375793457031, -44.21701431274414, -161.82205200195312, 3.715167284011841, -125.95716857910156, 29.88948631286621, 218.34210205078125, -114.55675506591797, 92.8062973022461], \"y\": [-262.0020751953125, 98.13916015625, -93.622314453125, 104.65625, -35.57509994506836, -97.90013885498047, 68.87442779541016, 220.71128845214844, 422.9561767578125, 50.87651062011719, -309.0428771972656, 178.1667938232422, 148.54100036621094, -7.0120134353637695, -98.90863800048828, -136.35707092285156, 95.0879898071289, -28.445106506347656, 27.168685913085938, -309.6465759277344, -57.460601806640625, -610.3505859375, 205.97918701171875, 81.24421691894531, 382.73040771484375, -180.79867553710938, -124.88565826416016, -118.14875793457031, 249.898681640625, 20.451187133789062, 111.69117736816406, 211.24241638183594], \"z\": [-189.07493591308594, -125.25615692138672, 190.3491668701172, 80.85970306396484, 335.90240478515625, -195.39883422851562, 194.5453338623047, 56.04248809814453, 4.604635715484619, -4.687408924102783, -59.545162200927734, -117.71096801757812, -142.43370056152344, 108.43631744384766, -473.8254089355469, 138.5960235595703, -19.26036834716797, -6.431529521942139, -204.6799774169922, -20.780364990234375, -104.45858764648438, 495.8726501464844, -278.8340759277344, 473.0458984375, 114.28117370605469, 65.4032974243164, -65.40795135498047, -280.53564453125, 265.62176513671875, -334.8095703125, 232.8914337158203, 45.707977294921875], \"type\": \"scatter3d\", \"uid\": \"9bebd104-9f58-4a91-82fb-118844d56c41\"}], {\"title\": {\"text\": \"Ok Computer lyrics\"}}, {\"showLink\": false, \"linkText\": \"Export to plot.ly\", \"plotlyServerURL\": \"https://plot.ly\"})});</script><script type=\"text/javascript\">window.addEventListener(\"resize\", function(){window._Plotly.Plots.resize(document.getElementById(\"d3a17267-b56f-4c3e-b3a5-d5847de84690\"));});</script>",
            "text/html": [
              "<div id=\"d3a17267-b56f-4c3e-b3a5-d5847de84690\" style=\"height: 525px; width: 100%;\" class=\"plotly-graph-div\"></div><script type=\"text/javascript\">require([\"plotly\"], function(Plotly) { window.PLOTLYENV=window.PLOTLYENV || {};window.PLOTLYENV.BASE_URL=\"https://plot.ly\";Plotly.newPlot(\"d3a17267-b56f-4c3e-b3a5-d5847de84690\", [{\"hoverinfo\": \"text\", \"marker\": {\"opacity\": 0.8, \"size\": 5}, \"mode\": \"markers+text\", \"text\": [\"\", \"And\", \"Bar.\", \"Boys.You\", \"He\", \"It's\", \"Jaguar.So\", \"Scouting\", \"So\", \"Steak\", \"Welcome\", \"a\", \"alright\", \"always\", \"and\", \"ate\", \"been\", \"been.You've\", \"been?\", \"big\", \"bought\", \"did\", \"didn't\", \"dream.You\", \"dream?\", \"dreamed\", \"drive\", \"filling\", \"fool\", \"for\", \"guitar\", \"have\", \"he\", \"his\", \"in\", \"know\", \"like\", \"loved\", \"ma\", \"machine.\", \"machine.Welcome\", \"machine.What\", \"machine.Where\", \"mean\", \"my\", \"nobody's\", \"of\", \"pipeline\", \"played\", \"provided\", \"punish\", \"school\", \"son\", \"star\", \"the\", \"time\", \"to\", \"told\", \"toys\", \"we\", \"welcome\", \"what\", \"where\", \"with\", \"you\", \"you're\", \"you've\", \"your\"], \"textposition\": \"bottom center\", \"x\": [-36.132442474365234, 324.9017028808594, 194.6321258544922, 278.8934326171875, -265.93365478515625, 151.1609344482422, 82.47032165527344, -124.59989929199219, 136.02874755859375, -22.531335830688477, -185.2057342529297, -140.4307861328125, 120.94084167480469, -178.53924560546875, -82.30577087402344, 11.361571311950684, -307.42724609375, 162.15133666992188, -38.09746551513672, 77.12747192382812, -203.10386657714844, -229.8040008544922, -20.88426399230957, 71.27375793457031, -44.21701431274414, -161.82205200195312, 3.715167284011841, -125.95716857910156, 29.88948631286621, 218.34210205078125, -114.55675506591797, 92.8062973022461], \"y\": [-262.0020751953125, 98.13916015625, -93.622314453125, 104.65625, -35.57509994506836, -97.90013885498047, 68.87442779541016, 220.71128845214844, 422.9561767578125, 50.87651062011719, -309.0428771972656, 178.1667938232422, 148.54100036621094, -7.0120134353637695, -98.90863800048828, -136.35707092285156, 95.0879898071289, -28.445106506347656, 27.168685913085938, -309.6465759277344, -57.460601806640625, -610.3505859375, 205.97918701171875, 81.24421691894531, 382.73040771484375, -180.79867553710938, -124.88565826416016, -118.14875793457031, 249.898681640625, 20.451187133789062, 111.69117736816406, 211.24241638183594], \"z\": [-189.07493591308594, -125.25615692138672, 190.3491668701172, 80.85970306396484, 335.90240478515625, -195.39883422851562, 194.5453338623047, 56.04248809814453, 4.604635715484619, -4.687408924102783, -59.545162200927734, -117.71096801757812, -142.43370056152344, 108.43631744384766, -473.8254089355469, 138.5960235595703, -19.26036834716797, -6.431529521942139, -204.6799774169922, -20.780364990234375, -104.45858764648438, 495.8726501464844, -278.8340759277344, 473.0458984375, 114.28117370605469, 65.4032974243164, -65.40795135498047, -280.53564453125, 265.62176513671875, -334.8095703125, 232.8914337158203, 45.707977294921875], \"type\": \"scatter3d\", \"uid\": \"9bebd104-9f58-4a91-82fb-118844d56c41\"}], {\"title\": {\"text\": \"Ok Computer lyrics\"}}, {\"showLink\": false, \"linkText\": \"Export to plot.ly\", \"plotlyServerURL\": \"https://plot.ly\"})});</script><script type=\"text/javascript\">window.addEventListener(\"resize\", function(){window._Plotly.Plots.resize(document.getElementById(\"d3a17267-b56f-4c3e-b3a5-d5847de84690\"));});</script>"
            ],
            "application/vnd.plotly.v1+json": {
              "layout": {
                "title": {
                  "text": "Ok Computer lyrics"
                }
              },
              "config": {
                "plotlyServerURL": "https://plot.ly",
                "linkText": "Export to plot.ly",
                "showLink": false
              },
              "data": [
                {
                  "textposition": "bottom center",
                  "uid": "9bebd104-9f58-4a91-82fb-118844d56c41",
                  "text": [
                    "",
                    "And",
                    "Bar.",
                    "Boys.You",
                    "He",
                    "It's",
                    "Jaguar.So",
                    "Scouting",
                    "So",
                    "Steak",
                    "Welcome",
                    "a",
                    "alright",
                    "always",
                    "and",
                    "ate",
                    "been",
                    "been.You've",
                    "been?",
                    "big",
                    "bought",
                    "did",
                    "didn't",
                    "dream.You",
                    "dream?",
                    "dreamed",
                    "drive",
                    "filling",
                    "fool",
                    "for",
                    "guitar",
                    "have",
                    "he",
                    "his",
                    "in",
                    "know",
                    "like",
                    "loved",
                    "ma",
                    "machine.",
                    "machine.Welcome",
                    "machine.What",
                    "machine.Where",
                    "mean",
                    "my",
                    "nobody's",
                    "of",
                    "pipeline",
                    "played",
                    "provided",
                    "punish",
                    "school",
                    "son",
                    "star",
                    "the",
                    "time",
                    "to",
                    "told",
                    "toys",
                    "we",
                    "welcome",
                    "what",
                    "where",
                    "with",
                    "you",
                    "you're",
                    "you've",
                    "your"
                  ],
                  "y": [
                    -262.0020751953125,
                    98.13916015625,
                    -93.622314453125,
                    104.65625,
                    -35.57509994506836,
                    -97.90013885498047,
                    68.87442779541016,
                    220.71128845214844,
                    422.9561767578125,
                    50.87651062011719,
                    -309.0428771972656,
                    178.1667938232422,
                    148.54100036621094,
                    -7.0120134353637695,
                    -98.90863800048828,
                    -136.35707092285156,
                    95.0879898071289,
                    -28.445106506347656,
                    27.168685913085938,
                    -309.6465759277344,
                    -57.460601806640625,
                    -610.3505859375,
                    205.97918701171875,
                    81.24421691894531,
                    382.73040771484375,
                    -180.79867553710938,
                    -124.88565826416016,
                    -118.14875793457031,
                    249.898681640625,
                    20.451187133789062,
                    111.69117736816406,
                    211.24241638183594
                  ],
                  "mode": "markers+text",
                  "hoverinfo": "text",
                  "marker": {
                    "opacity": 0.8,
                    "size": 5
                  },
                  "x": [
                    -36.132442474365234,
                    324.9017028808594,
                    194.6321258544922,
                    278.8934326171875,
                    -265.93365478515625,
                    151.1609344482422,
                    82.47032165527344,
                    -124.59989929199219,
                    136.02874755859375,
                    -22.531335830688477,
                    -185.2057342529297,
                    -140.4307861328125,
                    120.94084167480469,
                    -178.53924560546875,
                    -82.30577087402344,
                    11.361571311950684,
                    -307.42724609375,
                    162.15133666992188,
                    -38.09746551513672,
                    77.12747192382812,
                    -203.10386657714844,
                    -229.8040008544922,
                    -20.88426399230957,
                    71.27375793457031,
                    -44.21701431274414,
                    -161.82205200195312,
                    3.715167284011841,
                    -125.95716857910156,
                    29.88948631286621,
                    218.34210205078125,
                    -114.55675506591797,
                    92.8062973022461
                  ],
                  "z": [
                    -189.07493591308594,
                    -125.25615692138672,
                    190.3491668701172,
                    80.85970306396484,
                    335.90240478515625,
                    -195.39883422851562,
                    194.5453338623047,
                    56.04248809814453,
                    4.604635715484619,
                    -4.687408924102783,
                    -59.545162200927734,
                    -117.71096801757812,
                    -142.43370056152344,
                    108.43631744384766,
                    -473.8254089355469,
                    138.5960235595703,
                    -19.26036834716797,
                    -6.431529521942139,
                    -204.6799774169922,
                    -20.780364990234375,
                    -104.45858764648438,
                    495.8726501464844,
                    -278.8340759277344,
                    473.0458984375,
                    114.28117370605469,
                    65.4032974243164,
                    -65.40795135498047,
                    -280.53564453125,
                    265.62176513671875,
                    -334.8095703125,
                    232.8914337158203,
                    45.707977294921875
                  ],
                  "type": "scatter3d"
                }
              ]
            }
          },
          "metadata": {
            "tags": []
          }
        }
      ]
    },
    {
      "cell_type": "code",
      "metadata": {
        "id": "4n09O8L3_1aM",
        "colab_type": "code",
        "colab": {}
      },
      "source": [
        ""
      ],
      "execution_count": 0,
      "outputs": []
    }
  ]
}